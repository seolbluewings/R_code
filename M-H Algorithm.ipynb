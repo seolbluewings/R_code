{
 "cells": [
  {
   "cell_type": "markdown",
   "metadata": {},
   "source": [
    "### 1. Define Transition Kernel"
   ]
  },
  {
   "cell_type": "code",
   "execution_count": 1,
   "metadata": {},
   "outputs": [],
   "source": [
    "trans_ker = function(x,y,z){\n",
    "  z*dnorm(x,y-1.5,1) + (1-z)*dnorm(x,y+1.5,1)\n",
    "}"
   ]
  },
  {
   "cell_type": "markdown",
   "metadata": {},
   "source": [
    "### 2. Define Target Distribution"
   ]
  },
  {
   "cell_type": "code",
   "execution_count": 2,
   "metadata": {},
   "outputs": [],
   "source": [
    "target_func = function(x){\n",
    "  1/sqrt(8*x^{2}+1)*exp(-0.5*(x^{2}-8*x-16/(8*x^{2}+1)))\n",
    "} "
   ]
  },
  {
   "cell_type": "markdown",
   "metadata": {},
   "source": [
    "### 3. Determine iteration number"
   ]
  },
  {
   "cell_type": "code",
   "execution_count": 3,
   "metadata": {},
   "outputs": [],
   "source": [
    "N = 10000\n",
    "x= rep(0,N)"
   ]
  },
  {
   "cell_type": "markdown",
   "metadata": {},
   "source": [
    "### 4. Metropolis-Hastings Algorithm"
   ]
  },
  {
   "cell_type": "code",
   "execution_count": 4,
   "metadata": {},
   "outputs": [],
   "source": [
    "for(i in 1:N){\n",
    "  \n",
    "  z1 = rbinom(1,1,0.6)\n",
    "  z2 = rbinom(1,1,0.6)\n",
    "  x_dash = z1*rnorm(1,x[i]-1.5,1)+(1-z1)*rnorm(1,x[i]+1.5,1)\n",
    "  \n",
    "  alpha = (target_func(x_dash)/trans_ker(x_dash,x[i],z1))/(target_func(x[i])/trans_ker(x[i],x_dash,z2))\n",
    "  p = min(alpha,1)\n",
    "  \n",
    "  x[i+1]=sample(c(x[i],x_dash),size=1,prob=c(1-p,p))\n",
    "}"
   ]
  },
  {
   "cell_type": "markdown",
   "metadata": {},
   "source": [
    "### 5. Draw a Density plot of True Posterior distribution "
   ]
  },
  {
   "cell_type": "code",
   "execution_count": 5,
   "metadata": {},
   "outputs": [
    {
     "name": "stderr",
     "output_type": "stream",
     "text": [
      "Warning message:\n",
      "\"package 'repr' was built under R version 3.6.3\""
     ]
    }
   ],
   "source": [
    "library(repr)"
   ]
  },
  {
   "cell_type": "code",
   "execution_count": 6,
   "metadata": {},
   "outputs": [
    {
     "data": {
      "image/png": "[encoded data removed]",
      "text/plain": [
       "Plot with title \"\""
      ]
     },
     "metadata": {},
     "output_type": "display_data"
    }
   ],
   "source": [
    "options(repr.plot.width=7, repr.plot.height=4)\n",
    "hist(x,breaks=50, main = '', xlab = expression(theta))\n",
    "lines(seq(-2,10,0.01),target_func(seq(-2,10,0.01)),lty=1)"
   ]
  }
 ],
 "metadata": {
  "kernelspec": {
   "display_name": "R",
   "language": "R",
   "name": "ir"
  },
  "language_info": {
   "codemirror_mode": "r",
   "file_extension": ".r",
   "mimetype": "text/x-r-source",
   "name": "R",
   "pygments_lexer": "r",
   "version": "3.6.1"
  }
 },
 "nbformat": 4,
 "nbformat_minor": 2
}
