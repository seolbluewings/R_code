{
 "cells": [
  {
   "cell_type": "markdown",
   "metadata": {},
   "source": [
    "### 1. Generate Data"
   ]
  },
  {
   "cell_type": "code",
   "execution_count": 19,
   "metadata": {},
   "outputs": [
    {
     "name": "stderr",
     "output_type": "stream",
     "text": [
      "Installing package into 'C:/Users/seolbluewings/Documents/R/win-library/3.6'\n",
      "(as 'lib' is unspecified)\n"
     ]
    },
    {
     "name": "stdout",
     "output_type": "stream",
     "text": [
      "package 'mvtnorm' successfully unpacked and MD5 sums checked\n"
     ]
    },
    {
     "name": "stderr",
     "output_type": "stream",
     "text": [
      "Warning message:\n",
      "\"cannot remove prior installation of package 'mvtnorm'\"Warning message in file.copy(savedcopy, lib, recursive = TRUE):\n",
      "\"C:\\Users\\seolbluewings\\Documents\\R\\win-library\\3.6\\00LOCK\\mvtnorm\\libs\\x64\\mvtnorm.dll를 C:\\Users\\seolbluewings\\Documents\\R\\win-library\\3.6\\mvtnorm\\libs\\x64\\mvtnorm.dll로 복사하는데 문제가 발생했습니다: Permission denied\"Warning message:\n",
      "\"restored 'mvtnorm'\""
     ]
    },
    {
     "name": "stdout",
     "output_type": "stream",
     "text": [
      "\n",
      "The downloaded binary packages are in\n",
      "\tC:\\Users\\seolbluewings\\AppData\\Local\\Temp\\RtmpcdNSJu\\downloaded_packages\n"
     ]
    }
   ],
   "source": [
    "install.packages(\"mvtnorm\")"
   ]
  },
  {
   "cell_type": "code",
   "execution_count": 1,
   "metadata": {},
   "outputs": [
    {
     "name": "stderr",
     "output_type": "stream",
     "text": [
      "Warning message:\n",
      "\"package 'repr' was built under R version 3.6.3\""
     ]
    }
   ],
   "source": [
    "library(mvtnorm)\n",
    "library(repr)"
   ]
  },
  {
   "cell_type": "code",
   "execution_count": 2,
   "metadata": {},
   "outputs": [],
   "source": [
    "set.seed(50120057)"
   ]
  },
  {
   "cell_type": "markdown",
   "metadata": {},
   "source": [
    "#### 1-1. Create data X between (-2,2)"
   ]
  },
  {
   "cell_type": "code",
   "execution_count": 3,
   "metadata": {},
   "outputs": [],
   "source": [
    "N = 4000\n",
    "x = seq(-2, 2, length.out = N)"
   ]
  },
  {
   "cell_type": "markdown",
   "metadata": {},
   "source": [
    "#### 1-2. Create N $\\times$ D size Matrix"
   ]
  },
  {
   "cell_type": "code",
   "execution_count": 4,
   "metadata": {},
   "outputs": [],
   "source": [
    "D = 2\n",
    "X = matrix(c(rep(1,N),x),ncol = D)"
   ]
  },
  {
   "cell_type": "markdown",
   "metadata": {},
   "source": [
    "#### 1-3. Set true value of $\\beta$"
   ]
  },
  {
   "cell_type": "code",
   "execution_count": 5,
   "metadata": {},
   "outputs": [],
   "source": [
    "tr_beta = c(-1,2.5)"
   ]
  },
  {
   "cell_type": "markdown",
   "metadata": {},
   "source": [
    "#### 1-4. Define Sigmoid function & Dtermine y"
   ]
  },
  {
   "cell_type": "code",
   "execution_count": 6,
   "metadata": {},
   "outputs": [],
   "source": [
    "sigmoid = function(x){\n",
    "    return (1/(1+exp(-(x))))\n",
    "}"
   ]
  },
  {
   "cell_type": "code",
   "execution_count": 7,
   "metadata": {},
   "outputs": [],
   "source": [
    "p_mat = sigmoid(X%*%tr_beta)"
   ]
  },
  {
   "cell_type": "code",
   "execution_count": 8,
   "metadata": {},
   "outputs": [],
   "source": [
    "y = rbinom(N,1,p_mat)"
   ]
  },
  {
   "cell_type": "markdown",
   "metadata": {},
   "source": [
    "### 2. M-H Algorithm Step"
   ]
  },
  {
   "cell_type": "markdown",
   "metadata": {},
   "source": [
    "### 2-1. Set initial Value"
   ]
  },
  {
   "cell_type": "code",
   "execution_count": 9,
   "metadata": {},
   "outputs": [],
   "source": [
    "T = 3000\n",
    "beta_mat = matrix(1,nrow = T,ncol = D)\n",
    "bi = 1000 ### burn_in period 설정"
   ]
  },
  {
   "cell_type": "code",
   "execution_count": 10,
   "metadata": {},
   "outputs": [],
   "source": [
    "cov_mat = solve(t(X)%*%X)"
   ]
  },
  {
   "cell_type": "code",
   "execution_count": 11,
   "metadata": {},
   "outputs": [],
   "source": [
    "log_like = function(beta, N, X, y){\n",
    "    log_like = 0\n",
    "    for(i in (1:N)){\n",
    "        xi_beta = X[i,]%*%beta\n",
    "        log_like = log_like + (1-y[i])*(-1*xi_beta)-log(1+exp(-1*xi_beta))\n",
    "    }\n",
    "    return (log_like)\n",
    "}"
   ]
  },
  {
   "cell_type": "code",
   "execution_count": 12,
   "metadata": {
    "scrolled": true
   },
   "outputs": [
    {
     "ename": "ERROR",
     "evalue": "Error in `[<-`(`*tmp*`, i + 1, , value = beta_star): 첨자의 허용 범위를 벗어났습니다\n",
     "output_type": "error",
     "traceback": [
      "Error in `[<-`(`*tmp*`, i + 1, , value = beta_star): 첨자의 허용 범위를 벗어났습니다\nTraceback:\n"
     ]
    }
   ],
   "source": [
    "for (i in 1:T){\n",
    "  beta_star = rmvnorm(1,beta_mat[i,],cov_mat)\n",
    "  beta_star = as.vector(beta_star)\n",
    "  \n",
    "  new_like = log_like(beta_star,N,X,y)\n",
    "  old_like = log_like(beta_mat[i,],N,X,y)\n",
    "  \n",
    "  alpha = exp(new_like-old_like)\n",
    "  \n",
    "  p=min(alpha,1)\n",
    "  \n",
    "  if (runif(1,0,1) <=p){\n",
    "    beta_mat[i+1,] = beta_star\n",
    "  } else{\n",
    "    beta_mat[i+1,] = beta_mat[i,]\n",
    "  }    \n",
    "}"
   ]
  },
  {
   "cell_type": "code",
   "execution_count": 13,
   "metadata": {},
   "outputs": [],
   "source": [
    "post_beta = colMeans(beta_mat[-c(1:bi),])"
   ]
  },
  {
   "cell_type": "code",
   "execution_count": 14,
   "metadata": {},
   "outputs": [
    {
     "data": {
      "text/html": [
       "<style>\n",
       ".list-inline {list-style: none; margin:0; padding: 0}\n",
       ".list-inline>li {display: inline-block}\n",
       ".list-inline>li:not(:last-child)::after {content: \"\\00b7\"; padding: 0 .5ex}\n",
       "</style>\n",
       "<ol class=list-inline><li>-0.928992487552191</li><li>2.42338315913847</li></ol>\n"
      ],
      "text/latex": [
       "\\begin{enumerate*}\n",
       "\\item -0.928992487552191\n",
       "\\item 2.42338315913847\n",
       "\\end{enumerate*}\n"
      ],
      "text/markdown": [
       "1. -0.928992487552191\n",
       "2. 2.42338315913847\n",
       "\n",
       "\n"
      ],
      "text/plain": [
       "[1] -0.9289925  2.4233832"
      ]
     },
     "metadata": {},
     "output_type": "display_data"
    }
   ],
   "source": [
    "post_beta"
   ]
  },
  {
   "cell_type": "markdown",
   "metadata": {},
   "source": [
    "### 3. Check the Result"
   ]
  },
  {
   "cell_type": "code",
   "execution_count": 15,
   "metadata": {},
   "outputs": [
    {
     "data": {
      "image/png": "[encoded data removed]",
      "text/plain": [
       "Plot with title \"Trace plot\""
      ]
     },
     "metadata": {},
     "output_type": "display_data"
    }
   ],
   "source": [
    "options(repr.plot.width=7, repr.plot.height=4)\n",
    "par(mfrow=c(1,2))\n",
    "plot(beta_mat[,1], type = 'l', ylab = expression(beta[0])\n",
    "     , main = \"Trace plot\")\n",
    "plot(beta_mat[,2], type = 'l', ylab = expression(beta[1])\n",
    "     , main = \"Trace plot\")"
   ]
  },
  {
   "cell_type": "code",
   "execution_count": 16,
   "metadata": {},
   "outputs": [
    {
     "data": {
      "image/png": "[encoded data removed]",
      "text/plain": [
       "Plot with title \"beta[1]\""
      ]
     },
     "metadata": {},
     "output_type": "display_data"
    }
   ],
   "source": [
    "options(repr.plot.width=7, repr.plot.height=4)\n",
    "par(mfrow = c(1,2))\n",
    "hist(beta_mat[-c(1:bi),1], breaks = 30, main = expression(beta[0]), xlab = \"\")\n",
    "abline(v = tr_beta[1], col = \"red\")\n",
    "abline(v = post_beta[1], col = \"blue\")\n",
    "legend(\"top\", c(\"True\", \"Posterior Mean\"), lty = 2, lwd = 2\n",
    "       , col = c(\"red\", \"blue\"), bty = 'n', cex = 1)\n",
    "\n",
    "hist(beta_mat[-c(1:bi),2], breaks = 30, main = expression(beta[1]), xlab = \"\")\n",
    "abline(v = tr_beta[2], col = \"red\")\n",
    "abline(v = post_beta[2], col = \"blue\") \n",
    "legend(\"top\", c(\"True\", \"Posterior Mean\"), lty = 2, lwd = 2\n",
    "       , col = c(\"red\", \"blue\"), bty = 'n', cex = 1)"
   ]
  }
 ],
 "metadata": {
  "kernelspec": {
   "display_name": "R",
   "language": "R",
   "name": "ir"
  },
  "language_info": {
   "codemirror_mode": "r",
   "file_extension": ".r",
   "mimetype": "text/x-r-source",
   "name": "R",
   "pygments_lexer": "r",
   "version": "3.6.1"
  }
 },
 "nbformat": 4,
 "nbformat_minor": 2
}
