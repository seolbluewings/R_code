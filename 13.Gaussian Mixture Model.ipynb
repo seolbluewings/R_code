{
 "cells": [
  {
   "cell_type": "code",
   "execution_count": 1,
   "metadata": {
    "scrolled": false
   },
   "outputs": [
    {
     "name": "stderr",
     "output_type": "stream",
     "text": [
      "Warning message:\n",
      "\"package 'mvtnorm' was built under R version 3.6.3\"\n",
      "Attaching package: 'rBeta2009'\n",
      "\n",
      "The following object is masked from 'package:stats':\n",
      "\n",
      "    rbeta\n",
      "\n"
     ]
    }
   ],
   "source": [
    "library(mvtnorm)\n",
    "library(rBeta2009)"
   ]
  },
  {
   "cell_type": "code",
   "execution_count": 2,
   "metadata": {},
   "outputs": [],
   "source": [
    "set.seed(50120057)"
   ]
  },
  {
   "cell_type": "markdown",
   "metadata": {},
   "source": [
    "#### 1. $\\mathbf{y} \\sim \\sum_{k=1}^{K}\\pi_{k}\\mathcal{N}(\\mu_{k},1)$ 을 만족하는 데이터 생성\n",
    "#### 2. $\\pi = (\\pi_{1},...,\\pi_{k})$ 는 각각 non-negative하면서 합이 1이 되는 값들로 설정\n",
    "#### 3. 여기에서는 K=3 으로 설정하겠다"
   ]
  },
  {
   "cell_type": "code",
   "execution_count": 3,
   "metadata": {},
   "outputs": [],
   "source": [
    "mix_data = function(n,pi,mu,sd){\n",
    "    z = sample(1:length(pi),prob=pi,size=n,replace=T)\n",
    "    x = rnorm(n,mu[z],sd[z])\n",
    "    return(x)\n",
    "}\n",
    "y = mix_data(n = 1000, pi = c(0.2,0.3,0.5), mu= c(-4,0,4), sd=c(1,1,1))"
   ]
  },
  {
   "cell_type": "code",
   "execution_count": 4,
   "metadata": {},
   "outputs": [
    {
     "data": {
      "image/png": "[encoded data removed]",
      "text/plain": [
       "Plot with title \"Histogram of y\""
      ]
     },
     "metadata": {},
     "output_type": "display_data"
    }
   ],
   "source": [
    "options(repr.plot.width = 5, repr.plot.height = 5)\n",
    "hist(y, col= \"grey\", border = \"white\", breaks = 20)\n",
    "lines(density(y))"
   ]
  },
  {
   "cell_type": "markdown",
   "metadata": {},
   "source": [
    "#### 1. 데이터를 3개의 Class로 분류를 시도할 것이기 때문에 K=3 으로 설정\n",
    "#### 2. J값은 앞서 예제를 위해 생성한 데이터의 개수, iteration 횟수는 임의 지정\n",
    "#### 3. iteration에서 각 Sample 데이터를 저장할 수 있는 Matrix 생성"
   ]
  },
  {
   "cell_type": "code",
   "execution_count": 125,
   "metadata": {},
   "outputs": [],
   "source": [
    "K = 3\n",
    "J = 1000\n",
    "iter = 10000"
   ]
  },
  {
   "cell_type": "code",
   "execution_count": 126,
   "metadata": {},
   "outputs": [],
   "source": [
    "z_mat   = matrix(0, ncol = J, nrow = iter)\n",
    "pi_mat  = matrix(0, ncol = K, nrow = iter)\n",
    "mu_mat  = matrix(0, ncol = K, nrow = iter)"
   ]
  },
  {
   "cell_type": "markdown",
   "metadata": {},
   "source": [
    "####  1. 우리의 관심 parameter $\\Theta = (\\mu,\\pi) $ 이고 우리는 $p(\\mu,\\pi\\vert y)$ 분포에 관심이 있다.\n",
    "#### 2. Joint Posterior Distribution으로 바로 Sampling 하는 것은 어려워 각각의 Conditional Posterior Distribution을 구한다.\n",
    "#### 3. 다만 Sampling을 용이하게 만들기 위해 latent variable $\\mathbf{z}$를 사용하기 때문에 우리의 Target Joint Posterior Distribution은 $p(\\pi,\\mu,z\\vert y)$ 이다.\n",
    "- Sample z from $p(z\\vert\\mu,\\pi,y)$\n",
    "- Sample $\\pi$ from $p(\\pi\\vert\\mu,z,y)$\n",
    "- Sample $\\mu$ from $p(\\mu\\vert\\pi,z,y)$\n",
    "\n",
    "#### 4. Prior Distribution은 $\\pi = (\\pi_{1},...,\\pi_{k}) \\sim \\text{Dirichlet}(\\frac{1}{K},...,\\frac{1}{K}), \\quad  \\mu_{k} \\sim \\mathcal{N}(0,10^{2})$"
   ]
  },
  {
   "cell_type": "code",
   "execution_count": 141,
   "metadata": {},
   "outputs": [],
   "source": [
    "pi_mat[1,] =c(1/3,1/3,1/3)\n",
    "z_mat[1,] = sample(1:K,prob=pi_mat[1,],size=J,replace=T)\n",
    "mu_mat[1,] = rnorm(3,0,1)\n",
    "prop = c()\n",
    "    \n",
    "  for(t in 2:iter){\n",
    "    ### gibbs sampler for z ###\n",
    "    for(j in 1:J){\n",
    "      for(k in 1:K){\n",
    "        prop[k] = exp(-0.5*(y[j]-mu_mat[t-1,k])^2)*pi_mat[t-1,k]\n",
    "      }\n",
    "      z_mat[t,j] = which.max(rmultinom(1,1,prop/(sum(prop))))\n",
    "    }\n",
    "    \n",
    "    ### gibbs sampler for pi ###\n",
    "    \n",
    "    pi_mat[t,] = rdirichlet(1,c(sum(z_mat[t,]==1)+1/K, sum(z_mat[t,]==2)+1/K, sum(z_mat[t,]==3)+1/K))\n",
    "    \n",
    "    ### gibbs sampler for mu ###\n",
    "    \n",
    "    for(k in 1:K){\n",
    "      sig = (sum(z_mat[t,]==k) + 1/(10^2))^(-1)\n",
    "      mu = (sum(y[z_mat[t,]==k]))*sig\n",
    "      mu_mat[t,k] = rnorm(1,mu,sqrt(sig))\n",
    "    }\n",
    "  }"
   ]
  },
  {
   "cell_type": "markdown",
   "metadata": {},
   "source": [
    "#### 1. 각각의 parameter에 대한 Trace Plot \n",
    "#### 2. burn-in period 를 iteration 500으로 간주하고 그 이후의 Sampling 데이터만을 가지고 density plot 그리기\n",
    "#### 3. 각각의 $\\mu$와 $\\pi$는 데이터를 생성할 때 사용했던 $\\mu$값과 $\\pi$값에 합리적으로 매칭 됨"
   ]
  },
  {
   "cell_type": "code",
   "execution_count": 142,
   "metadata": {
    "scrolled": false
   },
   "outputs": [
    {
     "data": {
      "image/png": "[encoded data removed]",
      "text/plain": [
       "Plot with title \"mu[3]\""
      ]
     },
     "metadata": {},
     "output_type": "display_data"
    }
   ],
   "source": [
    "par(mfrow=c(2,3))\n",
    "\n",
    "ts.plot(mu_mat[,1],type=\"l\",xlab=\"\",ylab=\"\",main=expression(mu[1]),col='#228B22')\n",
    "ts.plot(mu_mat[,2],type=\"l\",xlab=\"\",ylab=\"\",main=expression(mu[2]),col='#FF3030')\n",
    "ts.plot(mu_mat[,3],type='l',xlab=\"\",ylab=\"\",main=expression(mu[3]),col='#009ACD')\n",
    "\n",
    "hist(mu_mat[-c(1:500),1],breaks=20,freq=FALSE,xlab=\"\",main=expression(mu[1]))\n",
    "lines(density(mu_mat[-c(1:500),1]),col='#228B22')\n",
    "hist(mu_mat[-c(1:500),2],breaks=20,freq=FALSE,xlab=\"\",main=expression(mu[2]))\n",
    "lines(density(mu_mat[-c(1:500),2]),col='#FF3030')\n",
    "hist(mu_mat[-c(1:500),3],breaks=20,freq=FALSE,xlab=\"\",main=expression(mu[3]))\n",
    "lines(density(mu_mat[-c(1:500),3]),col='#009ACD')"
   ]
  },
  {
   "cell_type": "code",
   "execution_count": 143,
   "metadata": {},
   "outputs": [
    {
     "data": {
      "image/png": "[encoded data removed]",
      "text/plain": [
       "Plot with title \"pi[3]\""
      ]
     },
     "metadata": {},
     "output_type": "display_data"
    }
   ],
   "source": [
    "par(mfrow=c(2,3))\n",
    "\n",
    "ts.plot(pi_mat[,1],type=\"l\",xlab=\"\",ylab=\"\",main=expression(pi[1]),col='#228B22')\n",
    "ts.plot(pi_mat[,2],type=\"l\",xlab=\"\",ylab=\"\",main=expression(pi[2]),col='#FF3030')\n",
    "ts.plot(pi_mat[,3],type='l',xlab=\"\",ylab=\"\",main=expression(pi[3]),col='#009ACD')\n",
    "\n",
    "hist(pi_mat[-c(1:500),1],breaks=20,freq=FALSE,xlab=\"\",main=expression(pi[1]))\n",
    "lines(density(pi_mat[-c(1:500),1]),col='#228B22')\n",
    "hist(pi_mat[-c(1:500),2],breaks=20,freq=FALSE,xlab=\"\",main=expression(pi[2]))\n",
    "lines(density(pi_mat[-c(1:500),2]),col='#FF3030')\n",
    "hist(pi_mat[-c(1:500),3],breaks=20,freq=FALSE,xlab=\"\",main=expression(pi[3]))\n",
    "lines(density(pi_mat[-c(1:500),3]),col='#009ACD')"
   ]
  }
 ],
 "metadata": {
  "kernelspec": {
   "display_name": "R",
   "language": "R",
   "name": "ir"
  },
  "language_info": {
   "codemirror_mode": "r",
   "file_extension": ".r",
   "mimetype": "text/x-r-source",
   "name": "R",
   "pygments_lexer": "r",
   "version": "3.6.1"
  }
 },
 "nbformat": 4,
 "nbformat_minor": 2
}
