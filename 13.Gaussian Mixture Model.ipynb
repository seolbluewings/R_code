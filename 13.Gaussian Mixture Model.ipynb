{
 "cells": [
  {
   "cell_type": "code",
   "execution_count": 3,
   "metadata": {
    "scrolled": true
   },
   "outputs": [
    {
     "name": "stderr",
     "output_type": "stream",
     "text": [
      "Warning message:\n",
      "\"package 'MCMCpack' was built under R version 3.6.3\"Loading required package: coda\n",
      "Loading required package: MASS\n",
      "##\n",
      "## Markov Chain Monte Carlo Package (MCMCpack)\n",
      "## Copyright (C) 2003-2021 Andrew D. Martin, Kevin M. Quinn, and Jong Hee Park\n",
      "##\n",
      "## Support provided by the U.S. National Science Foundation\n",
      "## (Grants SES-0350646 and SES-0350613)\n",
      "##\n",
      "Warning message:\n",
      "\"package 'mvtnorm' was built under R version 3.6.3\""
     ]
    }
   ],
   "source": [
    "library(MCMCpack)\n",
    "library(mvtnorm)"
   ]
  },
  {
   "cell_type": "code",
   "execution_count": 11,
   "metadata": {},
   "outputs": [],
   "source": [
    "set.seed(50120057)"
   ]
  },
  {
   "cell_type": "code",
   "execution_count": 12,
   "metadata": {},
   "outputs": [],
   "source": [
    "z = rmultinom(n = 1,size = 3000, prob=c(0.2,0.3,0.5))"
   ]
  },
  {
   "cell_type": "markdown",
   "metadata": {},
   "source": [
    "#### random하게 3가지 Class를 확률 prob 에 따라 생성한 결과"
   ]
  },
  {
   "cell_type": "markdown",
   "metadata": {},
   "source": [
    "#### 이를 활용하여 예제를 위한 데이터셋을 생성하자"
   ]
  },
  {
   "cell_type": "code",
   "execution_count": 15,
   "metadata": {},
   "outputs": [],
   "source": [
    "y= c(rnorm(n = z[1],mean = -4,sd = 0.7),rnorm(n = z[2], mean= 0, sd = 1.25),rnorm(n = z[3], mean = 4, sd =0.5))"
   ]
  },
  {
   "cell_type": "code",
   "execution_count": 28,
   "metadata": {},
   "outputs": [
    {
     "data": {
      "image/png": "[encoded data removed]",
      "text/plain": [
       "Plot with title \"Histogram of y\""
      ]
     },
     "metadata": {},
     "output_type": "display_data"
    }
   ],
   "source": [
    "options(repr.plot.width = 5, repr.plot.height = 5)\n",
    "hist(y, col= \"grey\", border = \"white\", breaks = 20)\n",
    "lines(density(y))"
   ]
  },
  {
   "cell_type": "code",
   "execution_count": null,
   "metadata": {},
   "outputs": [],
   "source": []
  },
  {
   "cell_type": "code",
   "execution_count": 24,
   "metadata": {},
   "outputs": [
    {
     "ename": "ERROR",
     "evalue": "Error in matrix(0, ncol = 72, nrow = iter): 객체 'iter'를 찾을 수 없습니다\n",
     "output_type": "error",
     "traceback": [
      "Error in matrix(0, ncol = 72, nrow = iter): 객체 'iter'를 찾을 수 없습니다\nTraceback:\n",
      "1. matrix(0, ncol = 72, nrow = iter)"
     ]
    }
   ],
   "source": [
    "z1_mat = matrix(0,ncol=72, nrow=iter)\n",
    "z2_mat = matrix(0,ncol=72, nrow=iter)\n",
    "\n",
    "pi1_mat = matrix(0,ncol=3, nrow=iter)\n",
    "pi2_mat = matrix(0,ncol=3, nrow=iter)\n",
    "\n",
    "mu1_mat = matrix(0,ncol=3, nrow=iter)\n",
    "sig1_mat = matrix(0,ncol=3, nrow=iter)\n",
    "mu2_mat = matrix(0,ncol=3, nrow=iter)\n",
    "sig2_mat = matrix(0,ncol=3, nrow=iter)\n",
    "\n",
    "R=3;K=3\n",
    "mu1_list = list()\n",
    "sig1_list = list()\n",
    "mu2_list = list()\n",
    "sig2_list = list()\n",
    "z1_list = list()\n",
    "z2_list = list()\n",
    "pi1_list = list()\n",
    "pi2_list = list()\n",
    "\n",
    "for(r in 1:3){\n",
    "  if(r==1){\n",
    "    pi1_mat[1,] =c(0.5,0.3,0.2)\n",
    "    pi2_mat[1,] = c(0.5,0.3,0.2)\n",
    "    z1_mat[1,] = rbinom(len,1,prob=c(pi1_mat[1,]))+1\n",
    "    z2_mat[1,] = rbinom(len,1,prob=c(pi2_mat[1,]))+1\n",
    "    mu1_mat[1,] = c(0,0.3,0.6)\n",
    "    mu2_mat[1,] = c(-1,0,1)\n",
    "    sig1_mat[1,] = c(0.05,0.05,0.05)\n",
    "    sig2_mat[1,] = c(0.5,0.5,0.5)\n",
    "  }\n",
    "  if(r==2){\n",
    "    pi1_mat[1,] =c(0.6,0.3,0.1)\n",
    "    pi2_mat[1,] = c(0.6,0.3,0.1)\n",
    "    z1_mat[1,] = rbinom(len,1,prob=c(pi1_mat[1,]))+1\n",
    "    z2_mat[1,] = rbinom(len,1,prob=c(pi2_mat[1,]))+1\n",
    "    mu1_mat[1,] = c(-0.1,0.3,0.6)\n",
    "    mu2_mat[1,] = c(-1.5,0.5,1.5)\n",
    "    sig1_mat[1,] = c(0.07,0.07,0.07)\n",
    "    sig2_mat[1,] = c(0.7,0.7,0.7)\n",
    "  }\n",
    "  if(r==3){\n",
    "    pi1_mat[1,] = c(0.5,0.4,0.1)\n",
    "    pi2_mat[1,] = c(0.5,0.4,0.1)\n",
    "    z1_mat[1,] = rbinom(len,1,prob=c(pi1_mat[1,]))+1\n",
    "    z2_mat[1,] = rbinom(len,1,prob=c(pi2_mat[1,]))+1\n",
    "    mu1_mat[1,] = c(-0.3,0.2,0.8)\n",
    "    mu2_mat[1,] = c(-1.2,0.2,1.2)\n",
    "    sig1_mat[1,] = c(0.03,0.03,0.03)\n",
    "    sig2_mat[1,] = c(0.3,0.3,0.3)\n",
    "  }\n",
    "  prop_1 = c()\n",
    "  prop_2 = c()\n",
    "  \n",
    "  for(t in 2:iter){\n",
    "    ### gibbs sampler for z ###\n",
    "    for(i in 1:len){\n",
    "      for(k in 1:K){\n",
    "        prop_1[k] = exp(-1/(2*sig1_mat[t-1,k])*(gene1[i]-mu1_mat[t-1,k])^2)*pi1_mat[t-1,k]\n",
    "        prop_2[k] = exp(-1/(2*sig2_mat[t-1,k])*(gene2[i]-mu2_mat[t-1,k])^2)*pi2_mat[t-1,k]\n",
    "      }\n",
    "      z1_mat[t,i] = which.max(rmultinom(1,1,prop_1/(sum(prop_1))))\n",
    "      z2_mat[t,i] = which.max(rmultinom(1,1,prop_2/(sum(prop_2))))\n",
    "    }\n",
    "    \n",
    "    ### gibbs sampler for pi ###\n",
    "    \n",
    "    pi1_mat[t,] = rdirichlet(1,c(sum(z1_mat[t,]==1)+1/K, sum(z1_mat[t,]==2)+1/K, sum(z1_mat[t,]==3)+1/K))\n",
    "    pi2_mat[t,] = rdirichlet(1,c(sum(z2_mat[t,]==1)+1/K, sum(z2_mat[t,]==2)+1/K, sum(z2_mat[t,]==3)+1/K))\n",
    "    \n",
    "    ### gibbs sampler for mu ###\n",
    "    \n",
    "    for(k in 1:K){\n",
    "      sg1 = (sum(z1_mat[t,]==k)/sig1_mat[t-1,k] + 1/(100^2))^(-1)\n",
    "      sg2 = (sum(z2_mat[t,]==k)/sig2_mat[t-1,k] + 1/(100^2))^(-1)\n",
    "      mu1 = (sum(gene1[z1_mat[t,]==k])/sig1_mat[t-1,k])*sg1\n",
    "      mu2 = (sum(gene2[z2_mat[t,]==k])/sig2_mat[t-1,k])*sg2\n",
    "      mu1_mat[t,k] = rnorm(1,mu1,sqrt(sg1))\n",
    "      mu2_mat[t,k] = rnorm(1,mu2,sqrt(sg2))\n",
    "    }\n",
    "    \n",
    "    ### gibbs sampler for sigma ###\n",
    "    for(k in 1:K){\n",
    "      sig1_mat[t,k] = rinvgamma(1,0.5*sum(z1_mat[t,]==k)+100,0.5*sum((gene1[z1_mat[t,]==k]-mu1_mat[t,k])^2)+1)\n",
    "      sig2_mat[t,k] = rinvgamma(1,0.5*sum(z2_mat[t,]==k)+100,0.5*sum((gene2[z2_mat[t,]==k]-mu2_mat[t,k])^2)+1)\n",
    "    }\n",
    "  }\n",
    "  z1_list[[r]] = z1_mat\n",
    "  z2_list[[r]] = z2_mat\n",
    "  pi1_list[[r]] = pi1_mat\n",
    "  pi2_list[[r]] = pi2_mat\n",
    "  mu1_list[[r]] = mu1_mat\n",
    "  sig1_list[[r]] = sig1_mat\n",
    "  mu2_list[[r]] = mu2_mat\n",
    "  sig2_list[[r]] = sig2_mat\n",
    "}\n",
    "\n",
    "par(mfrow=c(3,3))\n",
    "########################## gene1 #########################\n",
    "ts.plot(mu1_list[[1]][,1],type=\"l\",xlab=\"\",ylab=\"\",main=expression(mu[1]))\n",
    "hist(mu1_list[[1]][,1],breaks=20,freq=FALSE,xlab=\"\",main=expression(mu[1]))\n",
    "lines(density(mu1_list[[1]][,1]))\n",
    "acf(mu1_list[[1]][,1],xlab=\"\",main=expression(mu[1]))\n",
    "ts.plot(mu1_list[[1]][,2],type=\"l\",xlab=\"\",ylab=\"\",main=expression(mu[2]))\n",
    "hist(mu1_list[[1]][,2],breaks=20,freq=FALSE,xlab=\"\",main=expression(mu[2]))\n",
    "lines(density(mu1_list[[1]][,2]))\n",
    "acf(mu1_list[[1]][,2],xlab=\"\",main=expression(mu[2]))\n",
    "ts.plot(mu1_list[[1]][,3],type=\"l\",xlab=\"\",ylab=\"\",main=expression(mu[3]))\n",
    "hist(mu1_list[[1]][,3],breaks=20,freq=FALSE,xlab=\"\",main=expression(mu[3]))\n",
    "lines(density(mu1_list[[1]][,3]))\n",
    "acf(mu1_list[[1]][,3],xlab=\"\",main=expression(mu[3]))\n",
    "\n",
    "ts.plot(sig1_list[[1]][,1],type=\"l\",xlab=\"\",ylab=\"\",main=expression(sigma[1]^2))\n",
    "hist(sig1_list[[1]][,1],breaks=20,freq=FALSE,xlab=\"\",main=expression(sigma[1]^2))\n",
    "lines(density(sig1_list[[1]][,1]))\n",
    "acf(sig1_list[[1]][,1],xlab=\"\",main=expression(sigma[1]^2))\n",
    "ts.plot(sig1_list[[1]][,2],type=\"l\",xlab=\"\",ylab=\"\",main=expression(sigma[2]^2))\n",
    "hist(sig1_list[[1]][,2],breaks=20,freq=FALSE,xlab=\"\",main=expression(sigma[2]^2))\n",
    "lines(density(sig1_list[[1]][,2]))\n",
    "acf(sig1_list[[1]][,2],xlab=\"\",main=expression(sigma[2]^2))\n",
    "ts.plot(sig1_list[[1]][,3],type=\"l\",xlab=\"\",ylab=\"\",main=expression(sigma[3]^2))\n",
    "hist(sig1_list[[1]][,3],breaks=20,freq=FALSE,xlab=\"\",main=expression(sigma[3]^2))\n",
    "lines(density(sig1_list[[1]][,3]))\n",
    "acf(sig1_list[[1]][,3],xlab=\"\",main=expression(sigma[3]^2))\n",
    "\n",
    "ts.plot(pi1_list[[1]][,1],type=\"l\",xlab=\"\",ylab=\"\",main=expression(pi[1]))\n",
    "hist(pi1_list[[1]][,1],breaks=20,freq=FALSE,xlab=\"\",main=expression(pi[1]))\n",
    "lines(density(pi1_list[[1]][,1]))\n",
    "acf(pi1_list[[1]][,1],xlab=\"\",main=expression(pi[1]))\n",
    "ts.plot(pi1_list[[1]][,2],type=\"l\",xlab=\"\",ylab=\"\",main=expression(pi[2]))\n",
    "hist(pi1_list[[1]][,2],breaks=20,freq=FALSE,xlab=\"\",main=expression(pi[2]))\n",
    "lines(density(pi1_list[[1]][,2]))\n",
    "acf(pi1_list[[1]][,2],xlab=\"\",main=expression(pi[2]))\n",
    "ts.plot(pi1_list[[1]][,3],type=\"l\",xlab=\"\",ylab=\"\",main=expression(pi[3]))\n",
    "hist(pi1_list[[1]][,3],breaks=20,freq=FALSE,xlab=\"\",main=expression(pi[3]))\n",
    "lines(density(pi1_list[[1]][,3]))\n",
    "acf(pi1_list[[1]][,3],xlab=\"\",main=expression(pi[3]))\n",
    "\n",
    "\n",
    "#################### gene2 #######################\n",
    "ts.plot(mu2_list[[1]][,1],type=\"l\",xlab=\"\",ylab=\"\",main=expression(mu[1]))\n",
    "hist(mu2_list[[1]][,1],breaks=20,freq=FALSE,xlab=\"\",main=expression(mu[1]))\n",
    "lines(density(mu2_list[[1]][,1]))\n",
    "acf(mu2_list[[1]][,1],xlab=\"\",main=expression(mu[1]))\n",
    "ts.plot(mu2_list[[1]][,2],type=\"l\",xlab=\"\",ylab=\"\",main=expression(mu[2]))\n",
    "hist(mu2_list[[1]][,2],breaks=20,freq=FALSE,xlab=\"\",main=expression(mu[2]))\n",
    "lines(density(mu2_list[[1]][,2]))\n",
    "acf(mu2_list[[1]][,2],xlab=\"\",main=expression(mu[2]))\n",
    "ts.plot(mu2_list[[1]][,3],type=\"l\",xlab=\"\",ylab=\"\",main=expression(mu[3]))\n",
    "hist(mu2_list[[1]][,3],breaks=20,freq=FALSE,xlab=\"\",main=expression(mu[3]))\n",
    "lines(density(mu2_list[[1]][,3]))\n",
    "acf(mu2_list[[1]][,3],xlab=\"\",main=expression(mu[3]))\n",
    "\n",
    "ts.plot(sig2_list[[1]][,1],type=\"l\",xlab=\"\",ylab=\"\",main=expression(sigma[1]^2))\n",
    "hist(sig2_list[[1]][,1],breaks=20,freq=FALSE,xlab=\"\",main=expression(sigma[1]^2))\n",
    "lines(density(sig2_list[[1]][,1]))\n",
    "acf(sig2_list[[1]][,1],xlab=\"\",main=expression(sigma[1]^2))\n",
    "ts.plot(sig2_list[[1]][,2],type=\"l\",xlab=\"\",ylab=\"\",main=expression(sigma[2]^2))\n",
    "hist(sig2_list[[1]][,2],breaks=20,freq=FALSE,xlab=\"\",main=expression(sigma[2]^2))\n",
    "lines(density(sig2_list[[1]][,2]))\n",
    "acf(sig2_list[[1]][,2],xlab=\"\",main=expression(sigma[2]^2))\n",
    "ts.plot(sig2_list[[1]][,3],type=\"l\",xlab=\"\",ylab=\"\",main=expression(sigma[3]^2))\n",
    "hist(sig2_list[[1]][,3],breaks=20,freq=FALSE,xlab=\"\",main=expression(sigma[3]^2))\n",
    "lines(density(sig2_list[[1]][,3]))\n",
    "acf(sig2_list[[1]][,3],xlab=\"\",main=expression(sigma[3]^2))\n",
    "\n",
    "ts.plot(pi2_list[[1]][,1],type=\"l\",xlab=\"\",ylab=\"\",main=expression(pi[1]))\n",
    "hist(pi2_list[[1]][,1],breaks=20,freq=FALSE,xlab=\"\",main=expression(pi[1]))\n",
    "lines(density(pi2_list[[1]][,1]))\n",
    "acf(pi2_list[[1]][,1],xlab=\"\",main=expression(pi[1]))\n",
    "ts.plot(pi2_list[[1]][,2],type=\"l\",xlab=\"\",ylab=\"\",main=expression(pi[2]))\n",
    "hist(pi2_list[[1]][,2],breaks=20,freq=FALSE,xlab=\"\",main=expression(pi[2]))\n",
    "lines(density(pi2_list[[1]][,2]))\n",
    "acf(pi2_list[[1]][,2],xlab=\"\",main=expression(pi[2]))\n",
    "ts.plot(pi2_list[[1]][,3],type=\"l\",xlab=\"\",ylab=\"\",main=expression(pi[3]))\n",
    "hist(pi2_list[[1]][,3],breaks=20,freq=FALSE,xlab=\"\",main=expression(pi[3]))\n",
    "lines(density(pi2_list[[1]][,3]))\n",
    "acf(pi2_list[[1]][,3],xlab=\"\",main=expression(pi[3]))"
   ]
  },
  {
   "cell_type": "code",
   "execution_count": null,
   "metadata": {},
   "outputs": [],
   "source": []
  }
 ],
 "metadata": {
  "kernelspec": {
   "display_name": "R",
   "language": "R",
   "name": "ir"
  },
  "language_info": {
   "codemirror_mode": "r",
   "file_extension": ".r",
   "mimetype": "text/x-r-source",
   "name": "R",
   "pygments_lexer": "r",
   "version": "3.6.1"
  }
 },
 "nbformat": 4,
 "nbformat_minor": 2
}
