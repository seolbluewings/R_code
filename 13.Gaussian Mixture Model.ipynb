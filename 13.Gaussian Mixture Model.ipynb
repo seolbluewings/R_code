{
 "cells": [
  {
   "cell_type": "code",
   "execution_count": 16,
   "metadata": {
    "scrolled": false
   },
   "outputs": [
    {
     "name": "stderr",
     "output_type": "stream",
     "text": [
      "\n",
      "Attaching package: 'rBeta2009'\n",
      "\n",
      "The following object is masked from 'package:MCMCpack':\n",
      "\n",
      "    rdirichlet\n",
      "\n",
      "The following object is masked from 'package:stats':\n",
      "\n",
      "    rbeta\n",
      "\n"
     ]
    }
   ],
   "source": [
    "library(MCMCpack)\n",
    "library(mvtnorm)\n",
    "library(rBeta2009)"
   ]
  },
  {
   "cell_type": "code",
   "execution_count": 5,
   "metadata": {},
   "outputs": [],
   "source": [
    "set.seed(50120057)"
   ]
  },
  {
   "cell_type": "code",
   "execution_count": 6,
   "metadata": {},
   "outputs": [],
   "source": [
    "z = rmultinom(n = 1,size = 3000, prob=c(0.2,0.3,0.5))"
   ]
  },
  {
   "cell_type": "markdown",
   "metadata": {},
   "source": [
    "#### random하게 3가지 Class를 확률 prob 에 따라 생성한 결과"
   ]
  },
  {
   "cell_type": "markdown",
   "metadata": {},
   "source": [
    "#### 이를 활용하여 예제를 위한 데이터셋을 생성하자"
   ]
  },
  {
   "cell_type": "code",
   "execution_count": 7,
   "metadata": {},
   "outputs": [],
   "source": [
    "y= c(rnorm(n = z[1],mean = -4,sd = 0.7),rnorm(n = z[2], mean= 0, sd = 1.25),rnorm(n = z[3], mean = 4, sd =0.5))"
   ]
  },
  {
   "cell_type": "code",
   "execution_count": 8,
   "metadata": {},
   "outputs": [
    {
     "data": {
      "image/png": "[encoded data removed]",
      "text/plain": [
       "Plot with title \"Histogram of y\""
      ]
     },
     "metadata": {},
     "output_type": "display_data"
    }
   ],
   "source": [
    "options(repr.plot.width = 5, repr.plot.height = 5)\n",
    "hist(y, col= \"grey\", border = \"white\", breaks = 20)\n",
    "lines(density(y))"
   ]
  },
  {
   "cell_type": "markdown",
   "metadata": {},
   "source": [
    "#### iteration에서 각 Sample 데이터를 저장할 수 있는 Matrix 생성"
   ]
  },
  {
   "cell_type": "code",
   "execution_count": 3,
   "metadata": {},
   "outputs": [],
   "source": [
    "K = 3\n",
    "J = 3000\n",
    "iter = 30000"
   ]
  },
  {
   "cell_type": "code",
   "execution_count": 4,
   "metadata": {},
   "outputs": [],
   "source": [
    "z_mat   = matrix(0, ncol = J, nrow = iter)\n",
    "pi_mat  = matrix(0, ncol = K, nrow = iter)\n",
    "mu_mat  = matrix(0, ncol = K, nrow = iter)\n",
    "sig_mat = matrix(0, ncol = K, nrow = iter)"
   ]
  },
  {
   "cell_type": "markdown",
   "metadata": {},
   "source": [
    "#### starting point를 다양하게 잡고 각 starting point에서 수렴하는지 여부를 체크하기 위해서 동일 시행을 starting point를 바꿔가면서 여러번 수행해야 한다.\n",
    "\n",
    "#### 여러번 수행한 결과의 matrix를 모아서 보관해야하기 때문에 matrix를 보관할 수 있는 list type을 정의"
   ]
  },
  {
   "cell_type": "code",
   "execution_count": 9,
   "metadata": {},
   "outputs": [],
   "source": [
    "R = 5 ### 반복 시행횟수\n",
    "\n",
    "z_list   = list()\n",
    "pi_list  = list()\n",
    "mu_list  = list()\n",
    "sig_list = list()"
   ]
  },
  {
   "cell_type": "code",
   "execution_count": 19,
   "metadata": {},
   "outputs": [],
   "source": [
    "for(r in 1:3){\n",
    "  if(r==1){\n",
    "    pi_mat[1,] =c(0.5,0.3,0.2)\n",
    "    z_mat[1,] = rbinom(J,1,prob=c(pi_mat[1,]))+1\n",
    "    mu_mat[1,] = c(0,0.3,0.6)\n",
    "    sig_mat[1,] = c(0.05,0.05,0.05)\n",
    "  }\n",
    "  if(r==2){\n",
    "    pi_mat[1,] =c(0.5,0.3,0.2)\n",
    "    z_mat[1,] = rbinom(J,1,prob=c(pi_mat[1,]))+1\n",
    "    mu_mat[1,] = c(0,0.3,0.6)\n",
    "    sig_mat[1,] = c(0.05,0.05,0.05)\n",
    "  }\n",
    "    if(r==3){\n",
    "    pi_mat[1,] =c(0.5,0.3,0.2)\n",
    "    z_mat[1,] = rbinom(J,1,prob=c(pi_mat[1,]))+1\n",
    "    mu_mat[1,] = c(0,0.3,0.6)\n",
    "    sig_mat[1,] = c(0.05,0.05,0.05)\n",
    "  }\n",
    "  prop = c()\n",
    "    \n",
    "  for(t in 2:iter){\n",
    "    ### gibbs sampler for z ###\n",
    "    for(j in 1:J){\n",
    "      for(k in 1:K){\n",
    "        prop[k] = exp(-1/(2*sig_mat[t-1,k])*(y[j]-mu_mat[t-1,k])^2)*pi_mat[t-1,k]\n",
    "      }\n",
    "      z_mat[t,j] = which.max(rmultinom(1,1,prop/(sum(prop))))\n",
    "    }\n",
    "    \n",
    "    ### gibbs sampler for pi ###\n",
    "    \n",
    "    pi_mat[t,] = rdirichlet(1,c(sum(z_mat[t,]==1)+1/K, sum(z_mat[t,]==2)+1/K, sum(z_mat[t,]==3)+1/K))\n",
    "    \n",
    "    ### gibbs sampler for mu ###\n",
    "    \n",
    "    for(k in 1:K){\n",
    "      sig = (sum(z_mat[t,]==k)/sig_mat[t-1,k] + 1/(100^2))^(-1)\n",
    "      mu = (sum(y[z_mat[t,]==k])/sig_mat[t-1,k])*sig\n",
    "      mu_mat[t,k] = rnorm(1,mu,sqrt(sig))\n",
    "    }\n",
    "    \n",
    "    ### gibbs sampler for sigma ###\n",
    "    for(k in 1:K){\n",
    "      sig_mat[t,k] = rinvgamma(1,0.5*sum(z_mat[t,]==k)+100,0.5*sum((y[z_mat[t,]==k]-mu_mat[t,k])^2)+1)  \n",
    "    }\n",
    "  }\n",
    "  z_list[[r]]   = z_mat\n",
    "  pi_list[[r]]  = pi_mat\n",
    "  mu_list[[r]]  = mu_mat\n",
    "  sig_list[[r]] = sig_mat\n",
    "}"
   ]
  },
  {
   "cell_type": "code",
   "execution_count": 20,
   "metadata": {},
   "outputs": [
    {
     "data": {
      "image/png": "[encoded data removed]",
      "text/plain": [
       "Plot with title \"mu[3]\""
      ]
     },
     "metadata": {},
     "output_type": "display_data"
    },
    {
     "data": {
      "image/png": "[encoded data removed]",
      "text/plain": [
       "Plot with title \"sigma[3]^2\""
      ]
     },
     "metadata": {},
     "output_type": "display_data"
    },
    {
     "data": {
      "image/png": "[encoded data removed]",
      "text/plain": [
       "Plot with title \"pi[3]\""
      ]
     },
     "metadata": {},
     "output_type": "display_data"
    }
   ],
   "source": [
    "\n",
    "par(mfrow=c(3,3))\n",
    "########################## gene1 #########################\n",
    "ts.plot(mu_list[[1]][,1],type=\"l\",xlab=\"\",ylab=\"\",main=expression(mu[1]))\n",
    "hist(mu_list[[1]][,1],breaks=20,freq=FALSE,xlab=\"\",main=expression(mu[1]))\n",
    "lines(density(mu_list[[1]][,1]))\n",
    "acf(mu_list[[1]][,1],xlab=\"\",main=expression(mu[1]))\n",
    "ts.plot(mu_list[[1]][,2],type=\"l\",xlab=\"\",ylab=\"\",main=expression(mu[2]))\n",
    "hist(mu_list[[1]][,2],breaks=20,freq=FALSE,xlab=\"\",main=expression(mu[2]))\n",
    "lines(density(mu_list[[1]][,2]))\n",
    "acf(mu_list[[1]][,2],xlab=\"\",main=expression(mu[2]))\n",
    "ts.plot(mu_list[[1]][,3],type=\"l\",xlab=\"\",ylab=\"\",main=expression(mu[3]))\n",
    "hist(mu_list[[1]][,3],breaks=20,freq=FALSE,xlab=\"\",main=expression(mu[3]))\n",
    "lines(density(mu_list[[1]][,3]))\n",
    "acf(mu_list[[1]][,3],xlab=\"\",main=expression(mu[3]))\n",
    "\n",
    "ts.plot(sig_list[[1]][,1],type=\"l\",xlab=\"\",ylab=\"\",main=expression(sigma[1]^2))\n",
    "hist(sig_list[[1]][,1],breaks=20,freq=FALSE,xlab=\"\",main=expression(sigma[1]^2))\n",
    "lines(density(sig_list[[1]][,1]))\n",
    "acf(sig_list[[1]][,1],xlab=\"\",main=expression(sigma[1]^2))\n",
    "ts.plot(sig_list[[1]][,2],type=\"l\",xlab=\"\",ylab=\"\",main=expression(sigma[2]^2))\n",
    "hist(sig_list[[1]][,2],breaks=20,freq=FALSE,xlab=\"\",main=expression(sigma[2]^2))\n",
    "lines(density(sig_list[[1]][,2]))\n",
    "acf(sig_list[[1]][,2],xlab=\"\",main=expression(sigma[2]^2))\n",
    "ts.plot(sig_list[[1]][,3],type=\"l\",xlab=\"\",ylab=\"\",main=expression(sigma[3]^2))\n",
    "hist(sig_list[[1]][,3],breaks=20,freq=FALSE,xlab=\"\",main=expression(sigma[3]^2))\n",
    "lines(density(sig_list[[1]][,3]))\n",
    "acf(sig_list[[1]][,3],xlab=\"\",main=expression(sigma[3]^2))\n",
    "\n",
    "ts.plot(pi_list[[1]][,1],type=\"l\",xlab=\"\",ylab=\"\",main=expression(pi[1]))\n",
    "hist(pi_list[[1]][,1],breaks=20,freq=FALSE,xlab=\"\",main=expression(pi[1]))\n",
    "lines(density(pi_list[[1]][,1]))\n",
    "acf(pi_list[[1]][,1],xlab=\"\",main=expression(pi[1]))\n",
    "ts.plot(pi_list[[1]][,2],type=\"l\",xlab=\"\",ylab=\"\",main=expression(pi[2]))\n",
    "hist(pi_list[[1]][,2],breaks=20,freq=FALSE,xlab=\"\",main=expression(pi[2]))\n",
    "lines(density(pi_list[[1]][,2]))\n",
    "acf(pi_list[[1]][,2],xlab=\"\",main=expression(pi[2]))\n",
    "ts.plot(pi_list[[1]][,3],type=\"l\",xlab=\"\",ylab=\"\",main=expression(pi[3]))\n",
    "hist(pi_list[[1]][,3],breaks=20,freq=FALSE,xlab=\"\",main=expression(pi[3]))\n",
    "lines(density(pi_list[[1]][,3]))\n",
    "acf(pi_list[[1]][,3],xlab=\"\",main=expression(pi[3]))"
   ]
  }
 ],
 "metadata": {
  "kernelspec": {
   "display_name": "R",
   "language": "R",
   "name": "ir"
  },
  "language_info": {
   "codemirror_mode": "r",
   "file_extension": ".r",
   "mimetype": "text/x-r-source",
   "name": "R",
   "pygments_lexer": "r",
   "version": "3.6.1"
  }
 },
 "nbformat": 4,
 "nbformat_minor": 2
}
