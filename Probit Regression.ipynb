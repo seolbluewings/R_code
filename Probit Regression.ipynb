{
 "cells": [
  {
   "cell_type": "markdown",
   "metadata": {},
   "source": [
    "### Bayesian Probit Regression"
   ]
  },
  {
   "cell_type": "code",
   "execution_count": 1,
   "metadata": {},
   "outputs": [
    {
     "name": "stderr",
     "output_type": "stream",
     "text": [
      "Installing package into 'C:/Users/seolbluewings/Documents/R/win-library/3.6'\n",
      "(as 'lib' is unspecified)\n"
     ]
    },
    {
     "name": "stdout",
     "output_type": "stream",
     "text": [
      "package 'mvtnorm' successfully unpacked and MD5 sums checked\n"
     ]
    },
    {
     "name": "stderr",
     "output_type": "stream",
     "text": [
      "Warning message:\n",
      "\"cannot remove prior installation of package 'mvtnorm'\"Warning message in file.copy(savedcopy, lib, recursive = TRUE):\n",
      "\"C:\\Users\\seolbluewings\\Documents\\R\\win-library\\3.6\\00LOCK\\mvtnorm\\libs\\x64\\mvtnorm.dll를 C:\\Users\\seolbluewings\\Documents\\R\\win-library\\3.6\\mvtnorm\\libs\\x64\\mvtnorm.dll로 복사하는데 문제가 발생했습니다: Permission denied\"Warning message:\n",
      "\"restored 'mvtnorm'\""
     ]
    },
    {
     "name": "stdout",
     "output_type": "stream",
     "text": [
      "\n",
      "The downloaded binary packages are in\n",
      "\tC:\\Users\\seolbluewings\\AppData\\Local\\Temp\\Rtmpcd6z8M\\downloaded_packages\n"
     ]
    },
    {
     "name": "stderr",
     "output_type": "stream",
     "text": [
      "Installing package into 'C:/Users/seolbluewings/Documents/R/win-library/3.6'\n",
      "(as 'lib' is unspecified)\n"
     ]
    },
    {
     "name": "stdout",
     "output_type": "stream",
     "text": [
      "package 'truncnorm' successfully unpacked and MD5 sums checked\n",
      "\n",
      "The downloaded binary packages are in\n",
      "\tC:\\Users\\seolbluewings\\AppData\\Local\\Temp\\Rtmpcd6z8M\\downloaded_packages\n"
     ]
    },
    {
     "name": "stderr",
     "output_type": "stream",
     "text": [
      "Warning message:\n",
      "\"package 'truncnorm' was built under R version 3.6.3\"Warning message:\n",
      "\"package 'repr' was built under R version 3.6.3\""
     ]
    }
   ],
   "source": [
    "install.packages(\"mvtnorm\")\n",
    "install.packages(\"truncnorm\")\n",
    "\n",
    "library(mvtnorm)\n",
    "library(truncnorm)\n",
    "library(repr)"
   ]
  },
  {
   "cell_type": "markdown",
   "metadata": {},
   "source": [
    "### 1. Generate Data"
   ]
  },
  {
   "cell_type": "code",
   "execution_count": 2,
   "metadata": {},
   "outputs": [],
   "source": [
    "set.seed(50120057)"
   ]
  },
  {
   "cell_type": "markdown",
   "metadata": {},
   "source": [
    "#### 1-1. Create data X between (-2,2)"
   ]
  },
  {
   "cell_type": "code",
   "execution_count": 3,
   "metadata": {},
   "outputs": [],
   "source": [
    "N = 4000\n",
    "x = seq(-2, 2, length.out = N)"
   ]
  },
  {
   "cell_type": "markdown",
   "metadata": {},
   "source": [
    "#### 1-2. Create N*D size Matrix"
   ]
  },
  {
   "cell_type": "code",
   "execution_count": 4,
   "metadata": {},
   "outputs": [],
   "source": [
    "D = 2\n",
    "X = matrix(c(rep(1,N),x),ncol = D)"
   ]
  },
  {
   "cell_type": "markdown",
   "metadata": {},
   "source": [
    "#### 1-3. Set true value of $\\beta$"
   ]
  },
  {
   "cell_type": "code",
   "execution_count": 5,
   "metadata": {},
   "outputs": [],
   "source": [
    "tr_beta = c(-1,2.5)"
   ]
  },
  {
   "cell_type": "markdown",
   "metadata": {},
   "source": [
    "#### 1-4. By Using Probit function, obtain the vector of probability of success p"
   ]
  },
  {
   "cell_type": "code",
   "execution_count": 6,
   "metadata": {},
   "outputs": [],
   "source": [
    "p_mat = pnorm(X%*%tr_beta)"
   ]
  },
  {
   "cell_type": "markdown",
   "metadata": {},
   "source": [
    "#### 1-5. Generate binary observation data y based on p"
   ]
  },
  {
   "cell_type": "code",
   "execution_count": 7,
   "metadata": {},
   "outputs": [],
   "source": [
    "y = rbinom(N,1,p_mat)\n",
    "\n",
    "N1 = sum(y)\n",
    "N0 = N - sum(y)"
   ]
  },
  {
   "cell_type": "markdown",
   "metadata": {},
   "source": [
    "### 2. Gibbs Sampler Step"
   ]
  },
  {
   "cell_type": "markdown",
   "metadata": {},
   "source": [
    "#### 2-1. Set prior of $\\beta$"
   ]
  },
  {
   "cell_type": "code",
   "execution_count": 8,
   "metadata": {},
   "outputs": [],
   "source": [
    "beta_0 = rep(0,D)\n",
    "sig_0 = diag(1,D)"
   ]
  },
  {
   "cell_type": "markdown",
   "metadata": {},
   "source": [
    "#### 2-2. Set initial Value & Iteration number"
   ]
  },
  {
   "cell_type": "code",
   "execution_count": 9,
   "metadata": {},
   "outputs": [],
   "source": [
    "T = 50000\n",
    "beta_mat = matrix(1,nrow = T,ncol = D)\n",
    "u = rep(0,N)"
   ]
  },
  {
   "cell_type": "markdown",
   "metadata": {},
   "source": [
    "#### 2-3. Gibbs Sampler Step"
   ]
  },
  {
   "cell_type": "code",
   "execution_count": 10,
   "metadata": {},
   "outputs": [],
   "source": [
    "for(iter in 2:T){\n",
    "  \n",
    "  #### Sampling step of latent variable U\n",
    "  \n",
    "  mu_u = X%*%beta_mat[iter-1,]\n",
    "  \n",
    "  u[y==0] = rtruncnorm(N0, mean = mu_u[y==0], sd = 1, a = -Inf, b = 0)\n",
    "  u[y==1] = rtruncnorm(N1, mean = mu_u[y==1], sd = 1, a = 0, b = Inf)\n",
    "  \n",
    "  #### Sampling step of parameter beta\n",
    "  \n",
    "  Sig_pi = solve(t(X)%*%X + solve(sig_0))\n",
    "  mu_pi = Sig_pi%*%(t(X)%*%u + solve(sig_0)%*%beta_0)\n",
    "  \n",
    "  beta_mat[iter,] = rmvnorm(1, mu_pi, Sig_pi)\n",
    "}\n",
    "\n",
    "bi = 20000 ### burn_in period\n",
    "\n",
    "post_beta = colMeans(beta_mat[-c(1:bi), ])"
   ]
  },
  {
   "cell_type": "markdown",
   "metadata": {},
   "source": [
    "### 3. Convergence checking"
   ]
  },
  {
   "cell_type": "code",
   "execution_count": 11,
   "metadata": {
    "scrolled": true
   },
   "outputs": [
    {
     "data": {
      "image/png": "[encoded data removed]",
      "text/plain": [
       "Plot with title \"Trace plot\""
      ]
     },
     "metadata": {},
     "output_type": "display_data"
    }
   ],
   "source": [
    "options(repr.plot.width=7, repr.plot.height=4)\n",
    "par(mfrow=c(1,2))\n",
    "plot(beta_mat[,1], type = 'l', ylab = expression(beta[0])\n",
    "     , main = \"Trace plot\")\n",
    "plot(beta_mat[,2], type = 'l', ylab = expression(beta[1])\n",
    "     , main = \"Trace plot\")"
   ]
  },
  {
   "cell_type": "markdown",
   "metadata": {},
   "source": [
    "#### 3-1. Density plot of Posterior $\\beta$"
   ]
  },
  {
   "cell_type": "code",
   "execution_count": 12,
   "metadata": {},
   "outputs": [
    {
     "data": {
      "image/png": "[encoded data removed]",
      "text/plain": [
       "Plot with title \"beta[1]\""
      ]
     },
     "metadata": {},
     "output_type": "display_data"
    }
   ],
   "source": [
    "options(repr.plot.width=7, repr.plot.height=4)\n",
    "par(mfrow = c(1,2))\n",
    "hist(beta_mat[-c(1:bi),1], breaks = 30, main = expression(beta[0]), xlab = \"\")\n",
    "abline(v = tr_beta[1], col = \"red\")\n",
    "abline(v = post_beta[1], col = \"blue\")\n",
    "legend(\"top\", c(\"True\", \"Posterior Mean\"), lty = 2, lwd = 2\n",
    "       , col = c(\"red\", \"blue\"), bty = 'n', cex = 1)\n",
    "\n",
    "hist(beta_mat[-c(1:bi),2], breaks = 30, main = expression(beta[1]), xlab = \"\")\n",
    "abline(v = tr_beta[2], col = \"red\")\n",
    "abline(v = post_beta[2], col = \"blue\") \n",
    "legend(\"top\", c(\"True\", \"Posterior Mean\"), lty = 2, lwd = 2\n",
    "       , col = c(\"red\", \"blue\"), bty = 'n', cex = 1)"
   ]
  }
 ],
 "metadata": {
  "kernelspec": {
   "display_name": "R",
   "language": "R",
   "name": "ir"
  },
  "language_info": {
   "codemirror_mode": "r",
   "file_extension": ".r",
   "mimetype": "text/x-r-source",
   "name": "R",
   "pygments_lexer": "r",
   "version": "3.6.1"
  }
 },
 "nbformat": 4,
 "nbformat_minor": 2
}
