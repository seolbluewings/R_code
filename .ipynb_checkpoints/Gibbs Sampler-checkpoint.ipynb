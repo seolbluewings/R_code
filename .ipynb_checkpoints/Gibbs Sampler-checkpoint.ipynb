{
 "cells": [
  {
   "cell_type": "markdown",
   "metadata": {},
   "source": [
    "### 1. Define hyper-parameter"
   ]
  },
  {
   "cell_type": "code",
   "execution_count": 1,
   "metadata": {},
   "outputs": [],
   "source": [
    "x = c(10,13,15,11,9,18,20,17,23,21)\n",
    "mu0 = 14\n",
    "sig0 = 2\n",
    "alpha = 3\n",
    "beta = 2\n",
    "n = length(x)"
   ]
  },
  {
   "cell_type": "markdown",
   "metadata": {},
   "source": [
    "### 2. Gibbs Sampling"
   ]
  },
  {
   "cell_type": "markdown",
   "metadata": {},
   "source": [
    "- Sampling Step for $\\mu$\n",
    "- Sampling Step for $\\sigma^{2}$"
   ]
  },
  {
   "cell_type": "code",
   "execution_count": 2,
   "metadata": {},
   "outputs": [],
   "source": [
    "T = 10000\n",
    "\n",
    "theta = matrix(1,nrow=T,ncol=2)\n",
    "\n",
    "for(iter in 2:T){\n",
    "  \n",
    "  #### sampling step for mu\n",
    "  \n",
    "  var = 1/(n/theta[iter-1,2] + 1/(sig0)^2)\n",
    "  mu  = (sum(x)/theta[iter-1,2] + mu0/(sig0)^2) * var\n",
    "  \n",
    "  theta[iter,1] = rnorm(1,mu,sqrt(var))\n",
    "  \n",
    "  #### sampling step for sigma^2\n",
    "  \n",
    "  n_alpha = n/2 + alpha\n",
    "  n_beta = 0.5*sum((theta[iter,1]-x)^{2}) + beta\n",
    "  \n",
    "  theta[iter,2] = 1/rgamma(1,n_alpha,n_beta)\n",
    "}"
   ]
  },
  {
   "cell_type": "markdown",
   "metadata": {},
   "source": [
    "### 3. Draw a Trace Plot"
   ]
  },
  {
   "cell_type": "markdown",
   "metadata": {},
   "source": [
    "#### Jupyter Notebook에서 Plot Size를 조정하기 위한 library 설치"
   ]
  },
  {
   "cell_type": "code",
   "execution_count": 4,
   "metadata": {
    "scrolled": true
   },
   "outputs": [
    {
     "name": "stderr",
     "output_type": "stream",
     "text": [
      "Installing package into 'C:/Users/seolbluewings/Documents/R/win-library/3.6'\n",
      "(as 'lib' is unspecified)\n"
     ]
    },
    {
     "name": "stdout",
     "output_type": "stream",
     "text": [
      "package 'repr' successfully unpacked and MD5 sums checked\n",
      "\n",
      "The downloaded binary packages are in\n",
      "\tC:\\Users\\seolbluewings\\AppData\\Local\\Temp\\Rtmp0MJu2v\\downloaded_packages\n"
     ]
    }
   ],
   "source": [
    "install.packages(\"repr\")"
   ]
  },
  {
   "cell_type": "code",
   "execution_count": 5,
   "metadata": {},
   "outputs": [
    {
     "name": "stderr",
     "output_type": "stream",
     "text": [
      "Warning message:\n",
      "\"package 'repr' was built under R version 3.6.3\""
     ]
    },
    {
     "ename": "ERROR",
     "evalue": "Error in value[[3L]](cond): Package 'repr' version 0.19.2 cannot be unloaded:\n Error in unloadNamespace(package) : namespace 'repr' is imported by 'IRkernel', 'IRdisplay' so cannot be unloaded\n\n",
     "output_type": "error",
     "traceback": [
      "Error in value[[3L]](cond): Package 'repr' version 0.19.2 cannot be unloaded:\n Error in unloadNamespace(package) : namespace 'repr' is imported by 'IRkernel', 'IRdisplay' so cannot be unloaded\n\nTraceback:\n",
      "1. library(repr)",
      "2. tryCatch(unloadNamespace(package), error = function(e) {\n .     P <- if (!is.null(cc <- conditionCall(e))) \n .         paste(\"Error in\", deparse(cc)[1L], \": \")\n .     else \"Error : \"\n .     stop(gettextf(\"Package %s version %s cannot be unloaded:\\n %s\", \n .         sQuote(package), oldversion, paste0(P, conditionMessage(e), \n .             \"\\n\")), domain = NA)\n . })",
      "3. tryCatchList(expr, classes, parentenv, handlers)",
      "4. tryCatchOne(expr, names, parentenv, handlers[[1L]])",
      "5. value[[3L]](cond)",
      "6. stop(gettextf(\"Package %s version %s cannot be unloaded:\\n %s\", \n .     sQuote(package), oldversion, paste0(P, conditionMessage(e), \n .         \"\\n\")), domain = NA)"
     ]
    }
   ],
   "source": [
    "library(repr)"
   ]
  },
  {
   "cell_type": "code",
   "execution_count": 8,
   "metadata": {},
   "outputs": [
    {
     "data": {
      "image/png": "[encoded data removed]",
      "text/plain": [
       "plot without title"
      ]
     },
     "metadata": {},
     "output_type": "display_data"
    }
   ],
   "source": [
    "options(repr.plot.width=7, repr.plot.height=4)\n",
    "par(mfrow=c(1,3))\n",
    "plot(theta[1:5,],type=\"n\",xlab=expression(mu),ylab=expression(sigma^2))\n",
    "lines(theta[1:5,],lty=2)\n",
    "for(i in 1:5){\n",
    "  text(theta[i,1],theta[i,2],i)\n",
    "}\n",
    "\n",
    "plot(theta[1:50,],type=\"n\",xlab=expression(mu),ylab=expression(sigma^2))\n",
    "lines(theta[1:50,],lty=2)\n",
    "for(i in 1:50){\n",
    "  text(theta[i,1],theta[i,2],i)\n",
    "}\n",
    "\n",
    "plot(theta[1:1000,],type=\"n\",xlab=expression(mu),ylab=expression(sigma^2))\n",
    "lines(theta[1:1000,],lty=2)\n",
    "for(i in 1:1000){\n",
    "  text(theta[i,1],theta[i,2],i)\n",
    "}"
   ]
  },
  {
   "cell_type": "markdown",
   "metadata": {},
   "source": [
    "### 4. Draw a Posterior Distribution"
   ]
  },
  {
   "cell_type": "code",
   "execution_count": 9,
   "metadata": {},
   "outputs": [
    {
     "data": {
      "image/png": "[encoded data removed]",
      "text/plain": [
       "Plot with title \"sigma^2\""
      ]
     },
     "metadata": {},
     "output_type": "display_data"
    }
   ],
   "source": [
    "options(repr.plot.width=7, repr.plot.height=4)\n",
    "par(mfrow=c(1,2))\n",
    "\n",
    "plot(density(theta[5001:10000,1]),xlab=expression(mu),ylab=\"posterior\"\n",
    "     ,main=expression(mu))\n",
    "plot(density(theta[5001:10000,2]),xlab=expression(sigma^2),ylab=\"posterior\"\n",
    "     ,main=expression(sigma^2))"
   ]
  }
 ],
 "metadata": {
  "kernelspec": {
   "display_name": "R",
   "language": "R",
   "name": "ir"
  },
  "language_info": {
   "codemirror_mode": "r",
   "file_extension": ".r",
   "mimetype": "text/x-r-source",
   "name": "R",
   "pygments_lexer": "r",
   "version": "3.6.1"
  }
 },
 "nbformat": 4,
 "nbformat_minor": 2
}
