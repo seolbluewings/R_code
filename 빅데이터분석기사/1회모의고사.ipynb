{
 "cells": [
  {
   "cell_type": "code",
   "execution_count": 7,
   "metadata": {},
   "outputs": [],
   "source": [
    "lotto_dt <- read.csv(file = \"C:/Users/seolbluewings/Desktop/R_code/빅데이터분석기사/1회데이터/lotto.csv\",header = T)"
   ]
  },
  {
   "cell_type": "code",
   "execution_count": 8,
   "metadata": {},
   "outputs": [
    {
     "data": {
      "text/html": [
       "<table>\n",
       "<caption>A data.frame: 6 × 7</caption>\n",
       "<thead>\n",
       "\t<tr><th></th><th scope=col>time_id</th><th scope=col>num1</th><th scope=col>num2</th><th scope=col>num3</th><th scope=col>num4</th><th scope=col>num5</th><th scope=col>num6</th></tr>\n",
       "\t<tr><th></th><th scope=col>&lt;int&gt;</th><th scope=col>&lt;int&gt;</th><th scope=col>&lt;int&gt;</th><th scope=col>&lt;int&gt;</th><th scope=col>&lt;int&gt;</th><th scope=col>&lt;int&gt;</th><th scope=col>&lt;int&gt;</th></tr>\n",
       "</thead>\n",
       "<tbody>\n",
       "\t<tr><th scope=row>1</th><td>859</td><td> 8</td><td>22</td><td>35</td><td>38</td><td>39</td><td>41</td></tr>\n",
       "\t<tr><th scope=row>2</th><td>858</td><td> 9</td><td>13</td><td>32</td><td>38</td><td>39</td><td>43</td></tr>\n",
       "\t<tr><th scope=row>3</th><td>857</td><td> 6</td><td>10</td><td>16</td><td>28</td><td>34</td><td>38</td></tr>\n",
       "\t<tr><th scope=row>4</th><td>856</td><td>10</td><td>24</td><td>40</td><td>41</td><td>43</td><td>44</td></tr>\n",
       "\t<tr><th scope=row>5</th><td>855</td><td> 8</td><td>15</td><td>17</td><td>19</td><td>43</td><td>44</td></tr>\n",
       "\t<tr><th scope=row>6</th><td>854</td><td>20</td><td>25</td><td>31</td><td>32</td><td>36</td><td>43</td></tr>\n",
       "</tbody>\n",
       "</table>\n"
      ],
      "text/latex": [
       "A data.frame: 6 × 7\n",
       "\\begin{tabular}{r|lllllll}\n",
       "  & time\\_id & num1 & num2 & num3 & num4 & num5 & num6\\\\\n",
       "  & <int> & <int> & <int> & <int> & <int> & <int> & <int>\\\\\n",
       "\\hline\n",
       "\t1 & 859 &  8 & 22 & 35 & 38 & 39 & 41\\\\\n",
       "\t2 & 858 &  9 & 13 & 32 & 38 & 39 & 43\\\\\n",
       "\t3 & 857 &  6 & 10 & 16 & 28 & 34 & 38\\\\\n",
       "\t4 & 856 & 10 & 24 & 40 & 41 & 43 & 44\\\\\n",
       "\t5 & 855 &  8 & 15 & 17 & 19 & 43 & 44\\\\\n",
       "\t6 & 854 & 20 & 25 & 31 & 32 & 36 & 43\\\\\n",
       "\\end{tabular}\n"
      ],
      "text/markdown": [
       "\n",
       "A data.frame: 6 × 7\n",
       "\n",
       "| <!--/--> | time_id &lt;int&gt; | num1 &lt;int&gt; | num2 &lt;int&gt; | num3 &lt;int&gt; | num4 &lt;int&gt; | num5 &lt;int&gt; | num6 &lt;int&gt; |\n",
       "|---|---|---|---|---|---|---|---|\n",
       "| 1 | 859 |  8 | 22 | 35 | 38 | 39 | 41 |\n",
       "| 2 | 858 |  9 | 13 | 32 | 38 | 39 | 43 |\n",
       "| 3 | 857 |  6 | 10 | 16 | 28 | 34 | 38 |\n",
       "| 4 | 856 | 10 | 24 | 40 | 41 | 43 | 44 |\n",
       "| 5 | 855 |  8 | 15 | 17 | 19 | 43 | 44 |\n",
       "| 6 | 854 | 20 | 25 | 31 | 32 | 36 | 43 |\n",
       "\n"
      ],
      "text/plain": [
       "  time_id num1 num2 num3 num4 num5 num6\n",
       "1 859      8   22   35   38   39   41  \n",
       "2 858      9   13   32   38   39   43  \n",
       "3 857      6   10   16   28   34   38  \n",
       "4 856     10   24   40   41   43   44  \n",
       "5 855      8   15   17   19   43   44  \n",
       "6 854     20   25   31   32   36   43  "
      ]
     },
     "metadata": {},
     "output_type": "display_data"
    }
   ],
   "source": [
    "head(lotto_dt)"
   ]
  },
  {
   "cell_type": "markdown",
   "metadata": {},
   "source": [
    "#### 연관규칙분석을 수행하기 위해 lotto_dt 데이터를 transaction 데이터로 변환하시오\n",
    "- 단 본 분석에서 로또 번호가 추첨된 순서는 고려하지 않고 분석을 수행하도록 한다\n",
    "- 그리고 변환된 데이터에서 가장 많이 등장한 상위 10개의 로또번호를 막대그래프로 출력하고 설명하시오"
   ]
  },
  {
   "cell_type": "code",
   "execution_count": 11,
   "metadata": {
    "scrolled": true
   },
   "outputs": [
    {
     "name": "stderr",
     "output_type": "stream",
     "text": [
      "Installing package into 'C:/Users/seolbluewings/Documents/R/win-library/3.6'\n",
      "(as 'lib' is unspecified)\n"
     ]
    },
    {
     "name": "stdout",
     "output_type": "stream",
     "text": [
      "package 'reshape2' successfully unpacked and MD5 sums checked\n",
      "\n",
      "The downloaded binary packages are in\n",
      "\tC:\\Users\\seolbluewings\\AppData\\Local\\Temp\\RtmpWSKuZq\\downloaded_packages\n"
     ]
    },
    {
     "name": "stderr",
     "output_type": "stream",
     "text": [
      "Warning message:\n",
      "\"package 'reshape2' was built under R version 3.6.3\""
     ]
    }
   ],
   "source": [
    "install.packages('reshape2')\n",
    "library(reshape2)"
   ]
  },
  {
   "cell_type": "markdown",
   "metadata": {},
   "source": [
    "- melt 함수 이용, 데이터 형태 변경\n",
    "- 몇번째 회차에 나온 숫자의 종류만 중요하다\n",
    "- 따라서 num1~num6에 대한 데이터를 삭제시키기로 한다."
   ]
  },
  {
   "cell_type": "code",
   "execution_count": 26,
   "metadata": {},
   "outputs": [],
   "source": [
    "mt_dt = melt(lotto_dt, id.vars = \"time_id\")\n",
    "dt = mt_dt[,-2]"
   ]
  },
  {
   "cell_type": "code",
   "execution_count": 25,
   "metadata": {},
   "outputs": [
    {
     "data": {
      "text/html": [
       "<table>\n",
       "<caption>A data.frame: 6 × 2</caption>\n",
       "<thead>\n",
       "\t<tr><th></th><th scope=col>time_id</th><th scope=col>value</th></tr>\n",
       "\t<tr><th></th><th scope=col>&lt;int&gt;</th><th scope=col>&lt;int&gt;</th></tr>\n",
       "</thead>\n",
       "<tbody>\n",
       "\t<tr><th scope=row>1</th><td>859</td><td> 8</td></tr>\n",
       "\t<tr><th scope=row>2</th><td>858</td><td> 9</td></tr>\n",
       "\t<tr><th scope=row>3</th><td>857</td><td> 6</td></tr>\n",
       "\t<tr><th scope=row>4</th><td>856</td><td>10</td></tr>\n",
       "\t<tr><th scope=row>5</th><td>855</td><td> 8</td></tr>\n",
       "\t<tr><th scope=row>6</th><td>854</td><td>20</td></tr>\n",
       "</tbody>\n",
       "</table>\n"
      ],
      "text/latex": [
       "A data.frame: 6 × 2\n",
       "\\begin{tabular}{r|ll}\n",
       "  & time\\_id & value\\\\\n",
       "  & <int> & <int>\\\\\n",
       "\\hline\n",
       "\t1 & 859 &  8\\\\\n",
       "\t2 & 858 &  9\\\\\n",
       "\t3 & 857 &  6\\\\\n",
       "\t4 & 856 & 10\\\\\n",
       "\t5 & 855 &  8\\\\\n",
       "\t6 & 854 & 20\\\\\n",
       "\\end{tabular}\n"
      ],
      "text/markdown": [
       "\n",
       "A data.frame: 6 × 2\n",
       "\n",
       "| <!--/--> | time_id &lt;int&gt; | value &lt;int&gt; |\n",
       "|---|---|---|\n",
       "| 1 | 859 |  8 |\n",
       "| 2 | 858 |  9 |\n",
       "| 3 | 857 |  6 |\n",
       "| 4 | 856 | 10 |\n",
       "| 5 | 855 |  8 |\n",
       "| 6 | 854 | 20 |\n",
       "\n"
      ],
      "text/plain": [
       "  time_id value\n",
       "1 859      8   \n",
       "2 858      9   \n",
       "3 857      6   \n",
       "4 856     10   \n",
       "5 855      8   \n",
       "6 854     20   "
      ]
     },
     "metadata": {},
     "output_type": "display_data"
    }
   ],
   "source": [
    "head(dt)"
   ]
  },
  {
   "cell_type": "code",
   "execution_count": 28,
   "metadata": {},
   "outputs": [
    {
     "name": "stderr",
     "output_type": "stream",
     "text": [
      "Installing package into 'C:/Users/seolbluewings/Documents/R/win-library/3.6'\n",
      "(as 'lib' is unspecified)\n"
     ]
    },
    {
     "name": "stdout",
     "output_type": "stream",
     "text": [
      "\n",
      "  There is a binary version available but the source version is later:\n",
      "       binary source needs_compilation\n",
      "arules  1.6-7  1.6-8              TRUE\n",
      "\n",
      "  Binaries will be installed\n",
      "package 'arules' successfully unpacked and MD5 sums checked\n",
      "\n",
      "The downloaded binary packages are in\n",
      "\tC:\\Users\\seolbluewings\\AppData\\Local\\Temp\\RtmpWSKuZq\\downloaded_packages\n"
     ]
    },
    {
     "name": "stderr",
     "output_type": "stream",
     "text": [
      "Warning message:\n",
      "\"package 'arules' was built under R version 3.6.3\"Loading required package: Matrix\n",
      "\n",
      "Attaching package: 'arules'\n",
      "\n",
      "The following objects are masked from 'package:base':\n",
      "\n",
      "    abbreviate, write\n",
      "\n"
     ]
    }
   ],
   "source": [
    "install.packages('arules')\n",
    "library(arules)"
   ]
  },
  {
   "cell_type": "code",
   "execution_count": 33,
   "metadata": {},
   "outputs": [],
   "source": [
    "lotto_dt_split = split(dt$value, dt$time_id)\n",
    "lotto_trs_dt = as(lotto_dt_split,\"transactions\")"
   ]
  },
  {
   "cell_type": "code",
   "execution_count": 48,
   "metadata": {},
   "outputs": [
    {
     "data": {
      "image/png": "[encoded data removed]",
      "text/plain": [
       "plot without title"
      ]
     },
     "metadata": {},
     "output_type": "display_data"
    }
   ],
   "source": [
    "itemFrequencyPlot(lotto_trs_dt, topN = 10, type = 'absolute', xlab = '출현번호', ylab = '출연빈도')"
   ]
  },
  {
   "cell_type": "code",
   "execution_count": 47,
   "metadata": {},
   "outputs": [],
   "source": [
    "help(itemFrequencyPlot)"
   ]
  },
  {
   "cell_type": "code",
   "execution_count": null,
   "metadata": {},
   "outputs": [],
   "source": []
  }
 ],
 "metadata": {
  "kernelspec": {
   "display_name": "R",
   "language": "R",
   "name": "ir"
  },
  "language_info": {
   "codemirror_mode": "r",
   "file_extension": ".r",
   "mimetype": "text/x-r-source",
   "name": "R",
   "pygments_lexer": "r",
   "version": "3.6.1"
  }
 },
 "nbformat": 4,
 "nbformat_minor": 2
}
